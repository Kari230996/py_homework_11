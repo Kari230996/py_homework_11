{
 "cells": [
  {
   "cell_type": "code",
   "execution_count": 1,
   "metadata": {},
   "outputs": [
    {
     "data": {
      "text/latex": [
       "$\\displaystyle - 12 x^{4} - 18 x^{3} + 5 x^{2} + 10 x - 30$"
      ],
      "text/plain": [
       "-12*x**4 - 18*x**3 + 5*x**2 + 10*x - 30"
      ]
     },
     "execution_count": 1,
     "metadata": {},
     "output_type": "execute_result"
    }
   ],
   "source": [
    "import math\n",
    "from sympy import *\n",
    "from sympy.plotting import plot\n",
    "\n",
    "x = symbols('x')\n",
    "fx = -12*x**4 - 18*x**3+5*x**2 + 10*x - 30\n",
    "fx"
   ]
  },
  {
   "cell_type": "code",
   "execution_count": 6,
   "metadata": {},
   "outputs": [
    {
     "data": {
      "text/plain": [
       "[-3/8 - sqrt(121/144 + 4885/(2592*(208045/373248 + 5*sqrt(9048041)*I/20736)**(1/3)) + 2*(208045/373248 + 5*sqrt(9048041)*I/20736)**(1/3))/2 - sqrt(121/72 - 2*(208045/373248 + 5*sqrt(9048041)*I/20736)**(1/3) - 19/(96*sqrt(121/144 + 4885/(2592*(208045/373248 + 5*sqrt(9048041)*I/20736)**(1/3)) + 2*(208045/373248 + 5*sqrt(9048041)*I/20736)**(1/3))) - 4885/(2592*(208045/373248 + 5*sqrt(9048041)*I/20736)**(1/3)))/2,\n",
       " -3/8 + sqrt(121/144 + 4885/(2592*(208045/373248 + 5*sqrt(9048041)*I/20736)**(1/3)) + 2*(208045/373248 + 5*sqrt(9048041)*I/20736)**(1/3))/2 - sqrt(121/72 - 2*(208045/373248 + 5*sqrt(9048041)*I/20736)**(1/3) + 19/(96*sqrt(121/144 + 4885/(2592*(208045/373248 + 5*sqrt(9048041)*I/20736)**(1/3)) + 2*(208045/373248 + 5*sqrt(9048041)*I/20736)**(1/3))) - 4885/(2592*(208045/373248 + 5*sqrt(9048041)*I/20736)**(1/3)))/2,\n",
       " -3/8 + sqrt(121/72 - 2*(208045/373248 + 5*sqrt(9048041)*I/20736)**(1/3) - 19/(96*sqrt(121/144 + 4885/(2592*(208045/373248 + 5*sqrt(9048041)*I/20736)**(1/3)) + 2*(208045/373248 + 5*sqrt(9048041)*I/20736)**(1/3))) - 4885/(2592*(208045/373248 + 5*sqrt(9048041)*I/20736)**(1/3)))/2 - sqrt(121/144 + 4885/(2592*(208045/373248 + 5*sqrt(9048041)*I/20736)**(1/3)) + 2*(208045/373248 + 5*sqrt(9048041)*I/20736)**(1/3))/2,\n",
       " -3/8 + sqrt(121/72 - 2*(208045/373248 + 5*sqrt(9048041)*I/20736)**(1/3) + 19/(96*sqrt(121/144 + 4885/(2592*(208045/373248 + 5*sqrt(9048041)*I/20736)**(1/3)) + 2*(208045/373248 + 5*sqrt(9048041)*I/20736)**(1/3))) - 4885/(2592*(208045/373248 + 5*sqrt(9048041)*I/20736)**(1/3)))/2 + sqrt(121/144 + 4885/(2592*(208045/373248 + 5*sqrt(9048041)*I/20736)**(1/3)) + 2*(208045/373248 + 5*sqrt(9048041)*I/20736)**(1/3))/2]"
      ]
     },
     "execution_count": 6,
     "metadata": {},
     "output_type": "execute_result"
    }
   ],
   "source": [
    "'''1. Определить корни'''\n",
    "\n",
    "solve(fx)\n",
    "\n",
    "#print(f\"{sqrt_1}\\n{sqrt_2}\")"
   ]
  },
  {
   "cell_type": "code",
   "execution_count": 7,
   "metadata": {},
   "outputs": [
    {
     "data": {
      "text/latex": [
       "$\\displaystyle \\left(-\\infty < x \\wedge x < \\operatorname{CRootOf} {\\left(24 x^{3} + 27 x^{2} - 5 x - 5, 0\\right)}\\right) \\vee \\left(x < \\operatorname{CRootOf} {\\left(24 x^{3} + 27 x^{2} - 5 x - 5, 2\\right)} \\wedge \\operatorname{CRootOf} {\\left(24 x^{3} + 27 x^{2} - 5 x - 5, 1\\right)} < x\\right)$"
      ],
      "text/plain": [
       "((-oo < x) & (x < CRootOf(24*x**3 + 27*x**2 - 5*x - 5, 0))) | ((x < CRootOf(24*x**3 + 27*x**2 - 5*x - 5, 2)) & (CRootOf(24*x**3 + 27*x**2 - 5*x - 5, 1) < x))"
      ]
     },
     "execution_count": 7,
     "metadata": {},
     "output_type": "execute_result"
    }
   ],
   "source": [
    "'''2. Найти интервалы, на которых функция возрастает'''\n",
    "\n",
    "solve(diff(fx) > 0)"
   ]
  },
  {
   "cell_type": "code",
   "execution_count": 8,
   "metadata": {},
   "outputs": [
    {
     "data": {
      "text/latex": [
       "$\\displaystyle \\left(x < \\infty \\wedge \\operatorname{CRootOf} {\\left(24 x^{3} + 27 x^{2} - 5 x - 5, 2\\right)} < x\\right) \\vee \\left(x < \\operatorname{CRootOf} {\\left(24 x^{3} + 27 x^{2} - 5 x - 5, 1\\right)} \\wedge \\operatorname{CRootOf} {\\left(24 x^{3} + 27 x^{2} - 5 x - 5, 0\\right)} < x\\right)$"
      ],
      "text/plain": [
       "((x < oo) & (CRootOf(24*x**3 + 27*x**2 - 5*x - 5, 2) < x)) | ((x < CRootOf(24*x**3 + 27*x**2 - 5*x - 5, 1)) & (CRootOf(24*x**3 + 27*x**2 - 5*x - 5, 0) < x))"
      ]
     },
     "execution_count": 8,
     "metadata": {},
     "output_type": "execute_result"
    }
   ],
   "source": [
    "'''3. Найти интервалы, на которых функция убывает'''\n",
    "\n",
    "solve(diff(fx) < 0)"
   ]
  },
  {
   "cell_type": "code",
   "execution_count": 13,
   "metadata": {},
   "outputs": [
    {
     "name": "stdout",
     "output_type": "stream",
     "text": [
      "      0 |                ......................                 \n",
      "        |             ...                      ...              \n",
      "        |           ..                            ..            \n",
      "        |         ..                                ..          \n",
      "        |        /                                    \\         \n",
      "        |       /                                      \\        \n",
      "        |      /                                        \\       \n",
      "        |     .                                          .      \n",
      "        |                                                       \n",
      "        |    .                                            .     \n",
      "-1.05e+ |---.----------------------------------------------.----\n",
      "        |                                                       \n",
      "        |  .                                                .   \n",
      "        |                                                       \n",
      "        | .                                                     \n",
      "        |                                                    .  \n",
      "        |                                                       \n",
      "        |.                                                    . \n",
      "        |                                                       \n",
      "        |                                                       \n",
      "-2.1e+0 |_______________________________________________________\n",
      "         -20                        0                          20\n",
      "Plot object containing:\n",
      "[0]: cartesian line: -12*x**4 - 18*x**3 + 5*x**2 + 10*x - 30 for x over (-20.0, 20.0)\n"
     ]
    }
   ],
   "source": [
    "'''4. Построить график'''\n",
    "\n",
    "print(plot(fx, (x, -20, 20)))\n"
   ]
  },
  {
   "cell_type": "code",
   "execution_count": 14,
   "metadata": {},
   "outputs": [
    {
     "data": {
      "text/plain": [
       "[-3/8 + (-1/2 - sqrt(3)*I/2)*(19/1536 + sqrt(108895)*I/3456)**(1/3) + 121/(576*(-1/2 - sqrt(3)*I/2)*(19/1536 + sqrt(108895)*I/3456)**(1/3)),\n",
       " -3/8 + 121/(576*(-1/2 + sqrt(3)*I/2)*(19/1536 + sqrt(108895)*I/3456)**(1/3)) + (-1/2 + sqrt(3)*I/2)*(19/1536 + sqrt(108895)*I/3456)**(1/3),\n",
       " -3/8 + 121/(576*(19/1536 + sqrt(108895)*I/3456)**(1/3)) + (19/1536 + sqrt(108895)*I/3456)**(1/3)]"
      ]
     },
     "execution_count": 14,
     "metadata": {},
     "output_type": "execute_result"
    }
   ],
   "source": [
    "'''5. Вычислить вершину'''\n",
    "\n",
    "solve(diff(fx))"
   ]
  },
  {
   "cell_type": "code",
   "execution_count": 15,
   "metadata": {},
   "outputs": [
    {
     "data": {
      "text/latex": [
       "$\\displaystyle \\text{False}$"
      ],
      "text/plain": [
       "False"
      ]
     },
     "execution_count": 15,
     "metadata": {},
     "output_type": "execute_result"
    }
   ],
   "source": [
    "'''6. Определить промежутки, на котором f > 0'''\n",
    "\n",
    "solve(fx > 0)"
   ]
  },
  {
   "cell_type": "code",
   "execution_count": 16,
   "metadata": {},
   "outputs": [
    {
     "data": {
      "text/latex": [
       "$\\displaystyle -\\infty < x \\wedge x < \\infty$"
      ],
      "text/plain": [
       "(-oo < x) & (x < oo)"
      ]
     },
     "execution_count": 16,
     "metadata": {},
     "output_type": "execute_result"
    }
   ],
   "source": [
    "'''7. Определить промежутки, на котором f < 0'''\n",
    "\n",
    "solve(fx < 0)"
   ]
  }
 ],
 "metadata": {
  "kernelspec": {
   "display_name": "Python 3",
   "language": "python",
   "name": "python3"
  },
  "language_info": {
   "codemirror_mode": {
    "name": "ipython",
    "version": 3
   },
   "file_extension": ".py",
   "mimetype": "text/x-python",
   "name": "python",
   "nbconvert_exporter": "python",
   "pygments_lexer": "ipython3",
   "version": "3.11.1"
  },
  "orig_nbformat": 4,
  "vscode": {
   "interpreter": {
    "hash": "678dbdd68115446c135a0689d7f0d9279e65af6ca5976c4e3c5fdca1d763c6e6"
   }
  }
 },
 "nbformat": 4,
 "nbformat_minor": 2
}

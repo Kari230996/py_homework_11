{
 "cells": [
  {
   "cell_type": "code",
   "execution_count": 20,
   "metadata": {},
   "outputs": [
    {
     "data": {
      "text/latex": [
       "$\\displaystyle 5 x^{2} + 10 x - 30$"
      ],
      "text/plain": [
       "5*x**2 + 10*x - 30"
      ]
     },
     "execution_count": 20,
     "metadata": {},
     "output_type": "execute_result"
    }
   ],
   "source": [
    "import math\n",
    "from sympy import *\n",
    "from sympy.plotting import plot\n",
    "\n",
    "x = symbols('x')\n",
    "fx = 5*x**2 + 10*x - 30\n",
    "\n",
    "fx\n"
   ]
  },
  {
   "cell_type": "code",
   "execution_count": 22,
   "metadata": {},
   "outputs": [
    {
     "name": "stdout",
     "output_type": "stream",
     "text": [
      "1. -1 + sqrt(7)\n",
      "2. -sqrt(7) - 1\n"
     ]
    }
   ],
   "source": [
    "'''1. Определить корни'''\n",
    "\n",
    "sqrt_1, sqrt_2 = solve(fx)\n",
    "print(f'1. {sqrt_1}\\n2. {sqrt_2}')"
   ]
  },
  {
   "cell_type": "code",
   "execution_count": 23,
   "metadata": {},
   "outputs": [
    {
     "data": {
      "text/latex": [
       "$\\displaystyle -1 < x \\wedge x < \\infty$"
      ],
      "text/plain": [
       "(-1 < x) & (x < oo)"
      ]
     },
     "execution_count": 23,
     "metadata": {},
     "output_type": "execute_result"
    }
   ],
   "source": [
    "'''2. Найти интервалы, на которых функция возрастает'''\n",
    "\n",
    "solve(diff(fx) > 0)"
   ]
  },
  {
   "cell_type": "code",
   "execution_count": 24,
   "metadata": {},
   "outputs": [
    {
     "data": {
      "text/latex": [
       "$\\displaystyle -\\infty < x \\wedge x < -1$"
      ],
      "text/plain": [
       "(-oo < x) & (x < -1)"
      ]
     },
     "execution_count": 24,
     "metadata": {},
     "output_type": "execute_result"
    }
   ],
   "source": [
    "'''3. Найти интервалы, на которых функция убывает'''\n",
    "\n",
    "solve(diff(fx) < 0)"
   ]
  },
  {
   "cell_type": "code",
   "execution_count": 28,
   "metadata": {},
   "outputs": [
    {
     "name": "stdout",
     "output_type": "stream",
     "text": [
      "    570 |                                                      /\n",
      "        |                                                     . \n",
      "        |                                                       \n",
      "        |                                                    .  \n",
      "        |                                                   /   \n",
      "        |                                                  /    \n",
      "        |                                                 /     \n",
      "        |\\                                               /      \n",
      "        | \\                                             /       \n",
      "        |  \\                                           /        \n",
      "    270 |---\\-----------------------------------------/---------\n",
      "        |    \\                                       /          \n",
      "        |     \\                                     /           \n",
      "        |      ..                                  /            \n",
      "        |        \\                                /             \n",
      "        |         ..                            ..              \n",
      "        |           \\                         ..                \n",
      "        |            ..                      /                  \n",
      "        |              ..                 ...                   \n",
      "        |                ...           ...                      \n",
      "    -30 |_______________________________________________________\n",
      "         -10                        0                          10\n"
     ]
    },
    {
     "data": {
      "text/plain": [
       "<sympy.plotting.plot.Plot at 0x27067960290>"
      ]
     },
     "execution_count": 28,
     "metadata": {},
     "output_type": "execute_result"
    }
   ],
   "source": [
    "'''4. Построить график'''\n",
    "\n",
    "plot(fx)"
   ]
  },
  {
   "cell_type": "code",
   "execution_count": 29,
   "metadata": {},
   "outputs": [
    {
     "data": {
      "text/plain": [
       "[-1]"
      ]
     },
     "execution_count": 29,
     "metadata": {},
     "output_type": "execute_result"
    }
   ],
   "source": [
    "'''5. Вычислить вершину'''\n",
    "\n",
    "solve(diff(fx))"
   ]
  },
  {
   "cell_type": "code",
   "execution_count": 30,
   "metadata": {},
   "outputs": [
    {
     "data": {
      "text/latex": [
       "$\\displaystyle \\left(-\\infty < x \\wedge x < - \\sqrt{7} - 1\\right) \\vee \\left(x < \\infty \\wedge -1 + \\sqrt{7} < x\\right)$"
      ],
      "text/plain": [
       "((x < oo) & (-1 + sqrt(7) < x)) | ((-oo < x) & (x < -sqrt(7) - 1))"
      ]
     },
     "execution_count": 30,
     "metadata": {},
     "output_type": "execute_result"
    }
   ],
   "source": [
    "'''6. Определить промежутки, на котором f > 0'''\n",
    "\n",
    "solve(fx > 0)"
   ]
  },
  {
   "cell_type": "code",
   "execution_count": 31,
   "metadata": {},
   "outputs": [
    {
     "data": {
      "text/latex": [
       "$\\displaystyle x < -1 + \\sqrt{7} \\wedge - \\sqrt{7} - 1 < x$"
      ],
      "text/plain": [
       "(x < -1 + sqrt(7)) & (-sqrt(7) - 1 < x)"
      ]
     },
     "execution_count": 31,
     "metadata": {},
     "output_type": "execute_result"
    }
   ],
   "source": [
    "'''7. Определить промежутки, на котором f < 0'''\n",
    "\n",
    "solve(fx < 0)"
   ]
  }
 ],
 "metadata": {
  "kernelspec": {
   "display_name": "Python 3",
   "language": "python",
   "name": "python3"
  },
  "language_info": {
   "codemirror_mode": {
    "name": "ipython",
    "version": 3
   },
   "file_extension": ".py",
   "mimetype": "text/x-python",
   "name": "python",
   "nbconvert_exporter": "python",
   "pygments_lexer": "ipython3",
   "version": "3.11.1"
  },
  "orig_nbformat": 4,
  "vscode": {
   "interpreter": {
    "hash": "678dbdd68115446c135a0689d7f0d9279e65af6ca5976c4e3c5fdca1d763c6e6"
   }
  }
 },
 "nbformat": 4,
 "nbformat_minor": 2
}
